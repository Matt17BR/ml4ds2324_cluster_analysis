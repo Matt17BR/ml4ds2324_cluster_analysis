{
 "cells": [
  {
   "cell_type": "code",
   "execution_count": 3,
   "metadata": {},
   "outputs": [
    {
     "data": {
      "text/html": [
       "<div>\n",
       "<style scoped>\n",
       "    .dataframe tbody tr th:only-of-type {\n",
       "        vertical-align: middle;\n",
       "    }\n",
       "\n",
       "    .dataframe tbody tr th {\n",
       "        vertical-align: top;\n",
       "    }\n",
       "\n",
       "    .dataframe thead th {\n",
       "        text-align: right;\n",
       "    }\n",
       "</style>\n",
       "<table border=\"1\" class=\"dataframe\">\n",
       "  <thead>\n",
       "    <tr style=\"text-align: right;\">\n",
       "      <th></th>\n",
       "      <th>Time stamp</th>\n",
       "      <th>Value</th>\n",
       "      <th>Variable</th>\n",
       "    </tr>\n",
       "  </thead>\n",
       "  <tbody>\n",
       "    <tr>\n",
       "      <th>0</th>\n",
       "      <td>07/07/2023 10:41:03</td>\n",
       "      <td>491,00</td>\n",
       "      <td>TR2_Pot_att</td>\n",
       "    </tr>\n",
       "    <tr>\n",
       "      <th>1</th>\n",
       "      <td>07/07/2023 10:26:03</td>\n",
       "      <td>498,00</td>\n",
       "      <td>TR2_Pot_att</td>\n",
       "    </tr>\n",
       "    <tr>\n",
       "      <th>2</th>\n",
       "      <td>07/07/2023 10:11:03</td>\n",
       "      <td>498,00</td>\n",
       "      <td>TR2_Pot_att</td>\n",
       "    </tr>\n",
       "    <tr>\n",
       "      <th>3</th>\n",
       "      <td>07/07/2023 09:56:03</td>\n",
       "      <td>538,00</td>\n",
       "      <td>TR2_Pot_att</td>\n",
       "    </tr>\n",
       "    <tr>\n",
       "      <th>4</th>\n",
       "      <td>07/07/2023 09:41:03</td>\n",
       "      <td>505,00</td>\n",
       "      <td>TR2_Pot_att</td>\n",
       "    </tr>\n",
       "  </tbody>\n",
       "</table>\n",
       "</div>"
      ],
      "text/plain": [
       "            Time stamp   Value     Variable\n",
       "0  07/07/2023 10:41:03  491,00  TR2_Pot_att\n",
       "1  07/07/2023 10:26:03  498,00  TR2_Pot_att\n",
       "2  07/07/2023 10:11:03  498,00  TR2_Pot_att\n",
       "3  07/07/2023 09:56:03  538,00  TR2_Pot_att\n",
       "4  07/07/2023 09:41:03  505,00  TR2_Pot_att"
      ]
     },
     "execution_count": 3,
     "metadata": {},
     "output_type": "execute_result"
    }
   ],
   "source": [
    "import pandas as pd\n",
    "import os\n",
    "\n",
    "# Define a function that will merge all csv files in a given dir\n",
    "def merge_csv(dir):\n",
    "    all_dfs = []\n",
    "    # Traverse all subfolders\n",
    "    for root, dirs, files in os.walk(dir):\n",
    "        for file in files:\n",
    "            # Only look for csv files\n",
    "            if file.endswith('.csv'):\n",
    "                path = os.path.join(root, file)\n",
    "                df = pd.read_csv(path)\n",
    "                # Drop all empty columns before merging\n",
    "                df.dropna(axis=1, how='all', inplace=True)\n",
    "                # Add the filename as a variable\n",
    "                df['Variable'] = os.path.splitext(file)[0]\n",
    "                all_dfs.append(df)\n",
    "    # Return all concatenated data frames without repeating the header row\n",
    "    return pd.concat(all_dfs, ignore_index=True)\n",
    "\n",
    "# Run the function and merge the dfs\n",
    "merged_df = merge_csv(os.path.join('..','data'))\n",
    "\n",
    "# Save the merged dataframe to a new CSV file\n",
    "merged_df.to_csv(os.path.join('..','results','merged_data.csv'), index=False)\n",
    "\n",
    "merged_df.head()"
   ]
  }
 ],
 "metadata": {
  "kernelspec": {
   "display_name": "Python 3",
   "language": "python",
   "name": "python3"
  },
  "language_info": {
   "codemirror_mode": {
    "name": "ipython",
    "version": 3
   },
   "file_extension": ".py",
   "mimetype": "text/x-python",
   "name": "python",
   "nbconvert_exporter": "python",
   "pygments_lexer": "ipython3",
   "version": "3.11.6"
  }
 },
 "nbformat": 4,
 "nbformat_minor": 2
}
