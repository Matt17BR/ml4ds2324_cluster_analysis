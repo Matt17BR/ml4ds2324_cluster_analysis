{
 "cells": [
  {
   "cell_type": "code",
   "execution_count": 1,
   "metadata": {},
   "outputs": [
    {
     "name": "stdout",
     "output_type": "stream",
     "text": [
      "<class 'pandas.core.frame.DataFrame'>\n",
      "RangeIndex: 1007123 entries, 0 to 1007122\n",
      "Data columns (total 3 columns):\n",
      " #   Column      Non-Null Count    Dtype \n",
      "---  ------      --------------    ----- \n",
      " 0   Time stamp  1007123 non-null  object\n",
      " 1   Value       1007123 non-null  object\n",
      " 2   Variable    1007123 non-null  object\n",
      "dtypes: object(3)\n",
      "memory usage: 23.1+ MB\n"
     ]
    }
   ],
   "source": [
    "import pandas as pd\n",
    "import os\n",
    "\n",
    "# Load the provided CSV file to inspect its contents\n",
    "path = os.path.join('..','results','merged_data.csv')\n",
    "data = pd.read_csv(path)\n",
    "\n",
    "# Get an initial idea of the structure of the dataset\n",
    "data.info()"
   ]
  },
  {
   "cell_type": "code",
   "execution_count": 2,
   "metadata": {},
   "outputs": [
    {
     "data": {
      "text/html": [
       "<div>\n",
       "<style scoped>\n",
       "    .dataframe tbody tr th:only-of-type {\n",
       "        vertical-align: middle;\n",
       "    }\n",
       "\n",
       "    .dataframe tbody tr th {\n",
       "        vertical-align: top;\n",
       "    }\n",
       "\n",
       "    .dataframe thead th {\n",
       "        text-align: right;\n",
       "    }\n",
       "</style>\n",
       "<table border=\"1\" class=\"dataframe\">\n",
       "  <thead>\n",
       "    <tr style=\"text-align: right;\">\n",
       "      <th></th>\n",
       "      <th>Time stamp</th>\n",
       "      <th>Value</th>\n",
       "      <th>Variable</th>\n",
       "    </tr>\n",
       "  </thead>\n",
       "  <tbody>\n",
       "    <tr>\n",
       "      <th>0</th>\n",
       "      <td>07/07/2023 10:41:03</td>\n",
       "      <td>491,00</td>\n",
       "      <td>TR2_Pot_att</td>\n",
       "    </tr>\n",
       "    <tr>\n",
       "      <th>1</th>\n",
       "      <td>07/07/2023 10:26:03</td>\n",
       "      <td>498,00</td>\n",
       "      <td>TR2_Pot_att</td>\n",
       "    </tr>\n",
       "    <tr>\n",
       "      <th>2</th>\n",
       "      <td>07/07/2023 10:11:03</td>\n",
       "      <td>498,00</td>\n",
       "      <td>TR2_Pot_att</td>\n",
       "    </tr>\n",
       "    <tr>\n",
       "      <th>3</th>\n",
       "      <td>07/07/2023 09:56:03</td>\n",
       "      <td>538,00</td>\n",
       "      <td>TR2_Pot_att</td>\n",
       "    </tr>\n",
       "    <tr>\n",
       "      <th>4</th>\n",
       "      <td>07/07/2023 09:41:03</td>\n",
       "      <td>505,00</td>\n",
       "      <td>TR2_Pot_att</td>\n",
       "    </tr>\n",
       "  </tbody>\n",
       "</table>\n",
       "</div>"
      ],
      "text/plain": [
       "            Time stamp   Value     Variable\n",
       "0  07/07/2023 10:41:03  491,00  TR2_Pot_att\n",
       "1  07/07/2023 10:26:03  498,00  TR2_Pot_att\n",
       "2  07/07/2023 10:11:03  498,00  TR2_Pot_att\n",
       "3  07/07/2023 09:56:03  538,00  TR2_Pot_att\n",
       "4  07/07/2023 09:41:03  505,00  TR2_Pot_att"
      ]
     },
     "execution_count": 2,
     "metadata": {},
     "output_type": "execute_result"
    }
   ],
   "source": [
    "# Print the first 5 rows of the dataset\n",
    "data.head()"
   ]
  },
  {
   "cell_type": "markdown",
   "metadata": {},
   "source": [
    "Preprocessing the data"
   ]
  },
  {
   "cell_type": "code",
   "execution_count": 3,
   "metadata": {},
   "outputs": [
    {
     "data": {
      "text/html": [
       "<div>\n",
       "<style scoped>\n",
       "    .dataframe tbody tr th:only-of-type {\n",
       "        vertical-align: middle;\n",
       "    }\n",
       "\n",
       "    .dataframe tbody tr th {\n",
       "        vertical-align: top;\n",
       "    }\n",
       "\n",
       "    .dataframe thead th {\n",
       "        text-align: right;\n",
       "    }\n",
       "</style>\n",
       "<table border=\"1\" class=\"dataframe\">\n",
       "  <thead>\n",
       "    <tr style=\"text-align: right;\">\n",
       "      <th></th>\n",
       "      <th>Time stamp</th>\n",
       "      <th>Value</th>\n",
       "      <th>Variable</th>\n",
       "    </tr>\n",
       "  </thead>\n",
       "  <tbody>\n",
       "    <tr>\n",
       "      <th>0</th>\n",
       "      <td>2023-07-07 10:41:03</td>\n",
       "      <td>491.0</td>\n",
       "      <td>TR2_Pot_att</td>\n",
       "    </tr>\n",
       "    <tr>\n",
       "      <th>1</th>\n",
       "      <td>2023-07-07 10:26:03</td>\n",
       "      <td>498.0</td>\n",
       "      <td>TR2_Pot_att</td>\n",
       "    </tr>\n",
       "    <tr>\n",
       "      <th>2</th>\n",
       "      <td>2023-07-07 10:11:03</td>\n",
       "      <td>498.0</td>\n",
       "      <td>TR2_Pot_att</td>\n",
       "    </tr>\n",
       "    <tr>\n",
       "      <th>3</th>\n",
       "      <td>2023-07-07 09:56:03</td>\n",
       "      <td>538.0</td>\n",
       "      <td>TR2_Pot_att</td>\n",
       "    </tr>\n",
       "    <tr>\n",
       "      <th>4</th>\n",
       "      <td>2023-07-07 09:41:03</td>\n",
       "      <td>505.0</td>\n",
       "      <td>TR2_Pot_att</td>\n",
       "    </tr>\n",
       "  </tbody>\n",
       "</table>\n",
       "</div>"
      ],
      "text/plain": [
       "           Time stamp  Value     Variable\n",
       "0 2023-07-07 10:41:03  491.0  TR2_Pot_att\n",
       "1 2023-07-07 10:26:03  498.0  TR2_Pot_att\n",
       "2 2023-07-07 10:11:03  498.0  TR2_Pot_att\n",
       "3 2023-07-07 09:56:03  538.0  TR2_Pot_att\n",
       "4 2023-07-07 09:41:03  505.0  TR2_Pot_att"
      ]
     },
     "execution_count": 3,
     "metadata": {},
     "output_type": "execute_result"
    }
   ],
   "source": [
    "# Parsing 'Time stamp' into a datetime object\n",
    "data['Time stamp'] = pd.to_datetime(data['Time stamp'], format='%d/%m/%Y %H:%M:%S')\n",
    "\n",
    "# Converting 'Value' column to numerical format, replacing dots with nothing, commas with dots\n",
    "data['Value'] = data['Value'].str.replace('.','',regex=False).str.replace(',', '.').astype(float)\n",
    "\n",
    "# Display the updated dataframe to confirm changes\n",
    "data.head()\n"
   ]
  },
  {
   "cell_type": "code",
   "execution_count": 4,
   "metadata": {},
   "outputs": [
    {
     "data": {
      "text/html": [
       "<div>\n",
       "<style scoped>\n",
       "    .dataframe tbody tr th:only-of-type {\n",
       "        vertical-align: middle;\n",
       "    }\n",
       "\n",
       "    .dataframe tbody tr th {\n",
       "        vertical-align: top;\n",
       "    }\n",
       "\n",
       "    .dataframe thead th {\n",
       "        text-align: right;\n",
       "    }\n",
       "</style>\n",
       "<table border=\"1\" class=\"dataframe\">\n",
       "  <thead>\n",
       "    <tr style=\"text-align: right;\">\n",
       "      <th></th>\n",
       "      <th>Time stamp</th>\n",
       "      <th>Value</th>\n",
       "      <th>Variable</th>\n",
       "      <th>Value_median</th>\n",
       "      <th>Deviation_from_Median</th>\n",
       "    </tr>\n",
       "  </thead>\n",
       "  <tbody>\n",
       "    <tr>\n",
       "      <th>0</th>\n",
       "      <td>2023-07-07 10:41:03</td>\n",
       "      <td>491.0</td>\n",
       "      <td>TR2_Pot_att</td>\n",
       "      <td>408.0</td>\n",
       "      <td>83.0</td>\n",
       "    </tr>\n",
       "    <tr>\n",
       "      <th>1</th>\n",
       "      <td>2023-07-07 10:26:03</td>\n",
       "      <td>498.0</td>\n",
       "      <td>TR2_Pot_att</td>\n",
       "      <td>408.0</td>\n",
       "      <td>90.0</td>\n",
       "    </tr>\n",
       "    <tr>\n",
       "      <th>2</th>\n",
       "      <td>2023-07-07 10:11:03</td>\n",
       "      <td>498.0</td>\n",
       "      <td>TR2_Pot_att</td>\n",
       "      <td>408.0</td>\n",
       "      <td>90.0</td>\n",
       "    </tr>\n",
       "    <tr>\n",
       "      <th>3</th>\n",
       "      <td>2023-07-07 09:56:03</td>\n",
       "      <td>538.0</td>\n",
       "      <td>TR2_Pot_att</td>\n",
       "      <td>408.0</td>\n",
       "      <td>130.0</td>\n",
       "    </tr>\n",
       "    <tr>\n",
       "      <th>4</th>\n",
       "      <td>2023-07-07 09:41:03</td>\n",
       "      <td>505.0</td>\n",
       "      <td>TR2_Pot_att</td>\n",
       "      <td>408.0</td>\n",
       "      <td>97.0</td>\n",
       "    </tr>\n",
       "  </tbody>\n",
       "</table>\n",
       "</div>"
      ],
      "text/plain": [
       "           Time stamp  Value     Variable  Value_median  Deviation_from_Median\n",
       "0 2023-07-07 10:41:03  491.0  TR2_Pot_att         408.0                   83.0\n",
       "1 2023-07-07 10:26:03  498.0  TR2_Pot_att         408.0                   90.0\n",
       "2 2023-07-07 10:11:03  498.0  TR2_Pot_att         408.0                   90.0\n",
       "3 2023-07-07 09:56:03  538.0  TR2_Pot_att         408.0                  130.0\n",
       "4 2023-07-07 09:41:03  505.0  TR2_Pot_att         408.0                   97.0"
      ]
     },
     "execution_count": 4,
     "metadata": {},
     "output_type": "execute_result"
    }
   ],
   "source": [
    "# Calculating the median value for each variable\n",
    "median_values = data.groupby('Variable')['Value'].median()\n",
    "\n",
    "# Merging the median values with the original data for comparison\n",
    "data_with_median = data.merge(median_values, on='Variable', suffixes=('', '_median'))\n",
    "\n",
    "# Calculating the deviation from the median for each data point\n",
    "data_with_median['Deviation_from_Median'] = data_with_median['Value'] - data_with_median['Value_median']\n",
    "\n",
    "# Displaying the updated dataframe with median values and deviations\n",
    "data_with_median.head()"
   ]
  },
  {
   "cell_type": "code",
   "execution_count": 5,
   "metadata": {},
   "outputs": [
    {
     "name": "stderr",
     "output_type": "stream",
     "text": [
      "/usr/lib/python3.11/site-packages/sklearn/cluster/_kmeans.py:1416: FutureWarning: The default value of `n_init` will change from 10 to 'auto' in 1.4. Set the value of `n_init` explicitly to suppress the warning\n",
      "  super()._check_params_vs_input(X, default_n_init=10)\n"
     ]
    },
    {
     "data": {
      "image/png": "[encoded data removed]",
      "text/plain": [
       "<Figure size 1000x600 with 2 Axes>"
      ]
     },
     "metadata": {},
     "output_type": "display_data"
    }
   ],
   "source": [
    "from sklearn.cluster import KMeans\n",
    "import matplotlib.pyplot as plt\n",
    "\n",
    "# Selecting features for clustering\n",
    "features = data_with_median[['Value', 'Deviation_from_Median']]\n",
    "\n",
    "# Applying K-Means clustering\n",
    "# Starting with an arbitrary number of clusters, say 3\n",
    "kmeans = KMeans(n_clusters=3, random_state=0).fit(features)\n",
    "\n",
    "# Adding the cluster labels to the dataframe\n",
    "data_with_median['KMeans_Cluster'] = kmeans.labels_\n",
    "\n",
    "# Plotting the results of K-Means clustering\n",
    "plt.figure(figsize=(10, 6))\n",
    "plt.scatter(data_with_median['Value'], data_with_median['Deviation_from_Median'], c=data_with_median['KMeans_Cluster'])\n",
    "plt.title('K-Means Clustering of Data Center Electrical Plant Data')\n",
    "plt.xlabel('Value')\n",
    "plt.ylabel('Deviation from Median')\n",
    "plt.colorbar(label='Cluster Label')\n",
    "plt.show()"
   ]
  }
 ],
 "metadata": {
  "kernelspec": {
   "display_name": "Python 3",
   "language": "python",
   "name": "python3"
  },
  "language_info": {
   "codemirror_mode": {
    "name": "ipython",
    "version": 3
   },
   "file_extension": ".py",
   "mimetype": "text/x-python",
   "name": "python",
   "nbconvert_exporter": "python",
   "pygments_lexer": "ipython3",
   "version": "3.11.6"
  }
 },
 "nbformat": 4,
 "nbformat_minor": 2
}
